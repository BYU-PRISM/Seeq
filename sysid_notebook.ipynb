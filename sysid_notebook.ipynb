{
 "cells": [
  {
   "cell_type": "code",
   "execution_count": 1,
   "id": "1b10905b-2373-4cd1-aaa8-bd3312de7b6f",
   "metadata": {
    "pycharm": {
     "name": "#%%\n"
    },
    "tags": []
   },
   "outputs": [
    {
     "data": {
      "application/javascript": [
       "$('#header-container').hide();"
      ],
      "text/plain": [
       "<IPython.core.display.Javascript object>"
      ]
     },
     "execution_count": 1,
     "metadata": {},
     "output_type": "execute_result"
    }
   ],
   "source": [
    "from seeq_sysid.app import SYSID\n",
    "from seeq_sysid.gui.transfer_matrix import TransferMatrix\n",
    "import pickle\n",
    "import warnings\n",
    "warnings.filterwarnings('ignore')\n",
    "\n",
    "from IPython.display import HTML, clear_output, display, Javascript\n",
    "\n",
    "jv = '''$('#header-container').hide();'''\n",
    "Javascript(jv)"
   ]
  },
  {
   "cell_type": "code",
   "execution_count": 2,
   "id": "fc23476d-fb69-4f97-a9f0-76af61b5c60e",
   "metadata": {},
   "outputs": [
    {
     "data": {
      "application/javascript": [
       "\n",
       "if (document.addEventListener) {\n",
       "  document.addEventListener('contextmenu', function(e) {\n",
       "    e.preventDefault();\n",
       "  }, false);\n",
       "} else {\n",
       "  document.attachEvent('oncontextmenu', function() {\n",
       "      window.event.returnValue = false;\n",
       "  });\n",
       "}\n"
      ],
      "text/plain": [
       "<IPython.core.display.Javascript object>"
      ]
     },
     "metadata": {},
     "output_type": "display_data"
    }
   ],
   "source": [
    "%%javascript\n",
    "\n",
    "if (document.addEventListener) {\n",
    "  document.addEventListener('contextmenu', function(e) {\n",
    "    e.preventDefault();\n",
    "  }, false);\n",
    "} else {\n",
    "  document.attachEvent('oncontextmenu', function() {\n",
    "      window.event.returnValue = false;\n",
    "  });\n",
    "}"
   ]
  },
  {
   "cell_type": "code",
   "execution_count": 3,
   "id": "6bdab65f-9004-4d48-aef7-5bc2b15c73df",
   "metadata": {
    "pycharm": {
     "name": "#%%\n"
    },
    "tags": []
   },
   "outputs": [
    {
     "data": {
      "text/html": [
       "<style>.container {width:100% !important}</style>"
      ],
      "text/plain": [
       "<IPython.core.display.HTML object>"
      ]
     },
     "metadata": {},
     "output_type": "display_data"
    },
    {
     "data": {
      "application/vnd.jupyter.widget-view+json": {
       "model_id": "64cea2511814476594ff3b3d5a812cc5",
       "version_major": 2,
       "version_minor": 0
      },
      "text/plain": [
       "App(children=[AppBar(children=[Tabs(background_color='grey lighten-4', children=[HamburgerMenu(children=[List(…"
      ]
     },
     "metadata": {},
     "output_type": "display_data"
    }
   ],
   "source": [
    "app = SYSID()\n",
    "\n",
    "with open('results.pkl', 'rb') as file:\n",
    "    [arx_train_results, arx_validation_results,\n",
    "     ss_train_results, ss_validation_results,\n",
    "     nn_train_results, nn_validation_results] = pickle.load(file)\n",
    "    \n",
    "\n",
    "# ARX\n",
    "app.arx_sheet.mv_select.v_model = ['F_cw']\n",
    "app.arx_sheet.cv_select.v_model = ['T1', 'T2']\n",
    "app.arx_sheet.train_condition.v_model = ['Training Condition']\n",
    "\n",
    "app.arx_sheet.na_min.v_model = 0\n",
    "app.arx_sheet.nb_min.v_model = 0\n",
    "app.arx_sheet.nk_max.v_model = 5\n",
    "\n",
    "app.arx_sheet.panel.identify_model_btn.disabled = False\n",
    "app.arx_sheet.panel.validate_model_btn.disabled = False\n",
    "# app.arx_sheet.panel.push_model_btn.disabled = False\n",
    "\n",
    "app.arx_sheet.canvas.create(train_df=arx_train_results, validation_df=arx_validation_results)\n",
    "\n",
    "app.arx_sheet.canvas.table.table_header.checkbox_header.v_model = True\n",
    "\n",
    "app.arx_sheet.canvas.table.items_list[2].style_item.v_model = '_ . _'\n",
    "app.arx_sheet.canvas.table.items_list[3].style_item.v_model = '_ . _'\n",
    "\n",
    "app.arx_sheet.canvas.figure.update(2, True, 'dashdot')\n",
    "app.arx_sheet.canvas.figure.update(3, True, 'dashdot')\n",
    "\n",
    "\n",
    "\n",
    "# Subspace\n",
    "app.ss_sheet.mv_select.v_model = ['F_cw']\n",
    "app.ss_sheet.cv_select.v_model = ['T1', 'T2']\n",
    "app.ss_sheet.train_condition.v_model = ['Training Condition']\n",
    "\n",
    "app.ss_sheet.panel.identify_model_btn.disabled = False\n",
    "app.ss_sheet.panel.validate_model_btn.disabled = False\n",
    "\n",
    "app.ss_sheet.canvas.create(train_df=ss_train_results, validation_df=ss_validation_results)\n",
    "\n",
    "app.ss_sheet.canvas.table.table_header.checkbox_header.v_model = True\n",
    "\n",
    "app.ss_sheet.canvas.table.items_list[2].style_item.v_model = '_ . _'\n",
    "app.ss_sheet.canvas.table.items_list[3].style_item.v_model = '_ . _'\n",
    "\n",
    "app.ss_sheet.canvas.figure.update(2, True, 'dashdot')\n",
    "app.ss_sheet.canvas.figure.update(3, True, 'dashdot')\n",
    "\n",
    "\n",
    "\n",
    "# NeuralNetwork\n",
    "app.nn_sheet.mv_select.v_model = ['F_cw']\n",
    "app.nn_sheet.cv_select.v_model = ['T1', 'T2', 'CA1', 'CA2']\n",
    "\n",
    "app.nn_sheet.panel.identify_model_btn.disabled = False\n",
    "app.nn_sheet.panel.validate_model_btn.disabled = False\n",
    "\n",
    "app.nn_sheet.canvas.create(train_df=nn_train_results, validation_df=nn_validation_results)\n",
    "\n",
    "app.nn_sheet.canvas.table.table_header.checkbox_header.v_model = True\n",
    "\n",
    "app.nn_sheet.canvas.table.items_list[4].style_item.v_model = '_ . _'\n",
    "app.nn_sheet.canvas.table.items_list[5].style_item.v_model = '_ . _'\n",
    "app.nn_sheet.canvas.table.items_list[6].style_item.v_model = '_ . _'\n",
    "app.nn_sheet.canvas.table.items_list[7].style_item.v_model = '_ . _'\n",
    "\n",
    "app.nn_sheet.canvas.figure.update(4, True, 'dashdot')\n",
    "app.nn_sheet.canvas.figure.update(5, True, 'dashdot')\n",
    "app.nn_sheet.canvas.figure.update(6, True, 'dashdot')\n",
    "app.nn_sheet.canvas.figure.update(7, True, 'dashdot')\n",
    "\n",
    "\n",
    "\n",
    "# Trasfer Function\n",
    "app.tf_sheet.import_sheet.mv_select.v_model = ['F_cw', 'CA1']\n",
    "app.tf_sheet.import_sheet.cv_select.v_model = ['T1', 'T2']\n",
    "app.tf_sheet.import_sheet.train_condition_select.v_model = ['Training Condition']\n",
    "app.tf_sheet.import_sheet.valid_condition_select.v_model = ['Validation Condition']\n",
    "\n",
    "mv, cv = app.tf_sheet.import_sheet.get_data()\n",
    "\n",
    "app.tf_sheet.matrix_sheet = TransferMatrix()\n",
    "app.tf_sheet.matrix_sheet.create_matrix(signal_df=app.signal_df[mv + cv], capsule_df=app.capsule_df,\n",
    "                                mv=mv, cv=cv,\n",
    "                                train_capsules=app.tf_sheet.import_sheet.train_condition_select.v_model,\n",
    "                                valid_capsules=app.tf_sheet.import_sheet.valid_condition_select.v_model)\n",
    "\n",
    "app.tf_sheet.app_bar.next_btn.disabled = False\n",
    "app.tf_sheet.matrix_sheet.matrix_dic['T1']['CA1'].turn_off_tf_card()\n",
    "app.tf_sheet.matrix_sheet.matrix_dic['T2']['CA1'].turn_off_tf_card()\n",
    "chip_t1 = app.tf_sheet.matrix_sheet.matrix_dic['T1']['F_cw']\n",
    "chip_t2 = app.tf_sheet.matrix_sheet.matrix_dic['T2']['F_cw']\n",
    "chip_t1.tf_card.deadtime_checkbox.v_model = True\n",
    "chip_t2.tf_card.deadtime_checkbox.v_model = True\n",
    "app.tf_sheet.window.v_model = 2\n",
    "app.tf_sheet.update_nav()\n",
    "\n",
    "# Display App\n",
    "display(app.run())\n",
    "\n",
    "# Tf Runs in the background after App Disp. \n",
    "app.tf_sheet.matrix_sheet.run()\n",
    "app.tf_sheet.matrix_window.children = [app.tf_sheet.matrix_sheet]"
   ]
  },
  {
   "cell_type": "code",
   "execution_count": null,
   "id": "fc31a4d1-008b-46b5-90c5-86897335e410",
   "metadata": {},
   "outputs": [],
   "source": []
  }
 ],
 "metadata": {
  "kernelspec": {
   "display_name": "Python 3 (ipykernel)",
   "language": "python",
   "name": "python3"
  },
  "language_info": {
   "codemirror_mode": {
    "name": "ipython",
    "version": 3
   },
   "file_extension": ".py",
   "mimetype": "text/x-python",
   "name": "python",
   "nbconvert_exporter": "python",
   "pygments_lexer": "ipython3",
   "version": "3.8.10"
  },
  "vscode": {
   "interpreter": {
    "hash": "91d8968b6913674266b8374e74b5d853c49110d536766801bd46299aafaf398d"
   }
  }
 },
 "nbformat": 4,
 "nbformat_minor": 5
}

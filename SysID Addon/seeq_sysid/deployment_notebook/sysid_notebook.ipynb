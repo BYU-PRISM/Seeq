{
 "cells": [
  {
   "cell_type": "code",
   "execution_count": null,
   "id": "1b10905b-2373-4cd1-aaa8-bd3312de7b6f",
   "metadata": {
    "pycharm": {
     "name": "#%%\n"
    },
    "tags": []
   },
   "outputs": [],
   "source": [
    "from seeq_sysid.app import SYSID\n",
    "# from seeq import spy\n",
    "# from IPython.display import Javascript\n",
    "\n",
    "# jv = '''$('#header-container').hide();'''\n",
    "# Javascript(jv)"
   ]
  },
  {
   "cell_type": "code",
   "execution_count": null,
   "id": "7b33a518-2960-4bde-bda8-a6881e4f04a8",
   "metadata": {
    "tags": []
   },
   "outputs": [],
   "source": [
    "# Login\n",
    "# spy.login(username='', password='', url='', quiet=True)"
   ]
  },
  {
   "cell_type": "code",
   "execution_count": null,
   "id": "fc23476d-fb69-4f97-a9f0-76af61b5c60e",
   "metadata": {
    "tags": []
   },
   "outputs": [],
   "source": [
    "# %%javascript\n",
    "\n",
    "# if (document.addEventListener) {\n",
    "#   document.addEventListener('contextmenu', function(e) {\n",
    "#     e.preventDefault();\n",
    "#   }, false);\n",
    "# } else {\n",
    "#   document.attachEvent('oncontextmenu', function() {\n",
    "#       window.event.returnValue = false;\n",
    "#   });\n",
    "# }"
   ]
  },
  {
   "cell_type": "code",
   "execution_count": null,
   "id": "6bdab65f-9004-4d48-aef7-5bc2b15c73df",
   "metadata": {
    "pycharm": {
     "name": "#%%\n"
    },
    "tags": []
   },
   "outputs": [],
   "source": [
    "app = SYSID(sdl_notebook_url=jupyter_notebook_url)\n",
    "app.run()"
   ]
  }
 ],
 "metadata": {
  "kernelspec": {
   "display_name": "Python 3 (ipykernel)",
   "language": "python",
   "name": "python3"
  },
  "language_info": {
   "codemirror_mode": {
    "name": "ipython",
    "version": 3
   },
   "file_extension": ".py",
   "mimetype": "text/x-python",
   "name": "python",
   "nbconvert_exporter": "python",
   "pygments_lexer": "ipython3",
   "version": "3.8.10"
  },
  "vscode": {
   "interpreter": {
    "hash": "91d8968b6913674266b8374e74b5d853c49110d536766801bd46299aafaf398d"
   }
  }
 },
 "nbformat": 4,
 "nbformat_minor": 5
}

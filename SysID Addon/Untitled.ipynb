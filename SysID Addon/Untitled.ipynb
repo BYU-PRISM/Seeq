{
 "cells": [
  {
   "cell_type": "code",
   "execution_count": 1,
   "id": "df6441d5-9f4d-485b-ad3d-a36ed2520295",
   "metadata": {},
   "outputs": [],
   "source": [
    "# Import Packages\n",
    "\n",
    "import ipyvuetify as v\n",
    "import plotly.express as px\n",
    "\n",
    "from seeq_sysid.left_panel import Left_Panel\n",
    "from seeq_sysid.utils import create_eq"
   ]
  },
  {
   "cell_type": "code",
   "execution_count": 2,
   "id": "b852e6cd-09d9-4c54-b160-adb759e80a8c",
   "metadata": {},
   "outputs": [],
   "source": [
    "# Neural Network Panel\n",
    "class NN_Panel(Left_Panel):\n",
    "    def __init__(self, *args, **kwargs):\n",
    "        model_name = 'NeuralNetwork'\n",
    "        super().__init__(model_name=model_name,\n",
    "                         *args, **kwargs)\n",
    "\n",
    "        # Icons\n",
    "        title_icon = v.Icon(class_='', children=['mdi-tools'], color='white')\n",
    "\n",
    "        # Mode Switch\n",
    "        switch_values = ['Manual', 'Auto']\n",
    "        self.options_switch = v.Switch(tag='switch',\n",
    "                                       v_model=True,\n",
    "                                       inset=True,\n",
    "                                       label='Manual',\n",
    "                                       dark=False,\n",
    "                                       vertical=True,\n",
    "                                       dense=True,\n",
    "                                       )\n",
    "\n",
    "        self.options_switch.label = switch_values[self.options_switch.v_model]\n",
    "        self.options_switch.on_event('change', self.mode_select_action)\n",
    "        self.mode_row = v.Card(children=['Mode', v.Spacer(), self.options_switch], \n",
    "                               color='none',\n",
    "                               flat=True,\n",
    "                               class_='d-flex justify-center flex-row align-center pt-1 mx-1',\n",
    "                               style_='font-size:12pt; font-weight:bold; height:40px',\n",
    "                               dense=True)\n",
    "        \n",
    "        # Auto Mode Widgets\n",
    "        self.slider_help_tip_btn = v.Btn(icon=True, v_on='help_tooltip.on', children=[v.Icon(children=['mdi-help-circle-outline'])])\n",
    "        self.slider_help_tip = v.Tooltip(bottom=True,\n",
    "                                         max_width='290px',\n",
    "                                         v_slots=[{'name': 'activator',\n",
    "                                                                'variable': 'help_tooltip',\n",
    "                                                                'children': self.slider_help_tip_btn\n",
    "                                                               }], children=['Higher computaional cost requires more time but the accuracy is higher.'])\n",
    "        \n",
    "        self.auto_slider_title = v.Row(children=[v.Icon(children=['mdi-brain'], class_='px-2 pb-0 mb-0'),\n",
    "                                                 'Computation Cost',\n",
    "                                                 v.Spacer(),\n",
    "                                                 self.slider_help_tip], \n",
    "                                       align='center',\n",
    "                                       class_='pb-0 pt-1 px-1',\n",
    "                                       style_='font-size:11pt')\n",
    "        self.auto_mode_slider = v.Slider(tick_labels=['Low', 'Medium', 'High'], \n",
    "                                         max=2,\n",
    "                                         v_model=0,\n",
    "                                         style_='font-size:10pt; font-weight:bold',\n",
    "                                         class_='',\n",
    "                                         dense=True,\n",
    "                                         dark=False)\n",
    "        self.auto_mode_list = [self.auto_slider_title, self.auto_mode_slider]\n",
    "        \n",
    "        \n",
    "        # Manual Mode Widgets (Coming Soon...)\n",
    "        self.manual_btn_title = v.Row(children=[v.Icon(children=['mdi-graph-outline'], class_='px-2 pb-0 mb-1'), 'Custom Neural Network'], \n",
    "                               class_='pb-0 pt-1 px-1',\n",
    "                               style_='font-size:11pt')\n",
    "        self.manual_mode_btn = v.Btn(children=['Coming Soon...'], class_='d-flex justify-center my-1', align='center', dark=False, disabled=True)\n",
    "        self.manual_mode_btn.on_event('click', self.manual_mode_btn_action)\n",
    "        self.manual_mode_list = [self.manual_btn_title, self.manual_mode_btn]\n",
    "        \n",
    "        self.custom_nn_card = v.Card(color='white', children=['Hello World'], height='80%', align='center', class_='d-flex flex-row justify-center')\n",
    "        self.custom_nn_dialog = v.Dialog(v_model=False,\n",
    "                                         align='center',\n",
    "                                         width='50%',\n",
    "                                         class_='d-flex flex-row justify-center align-center',\n",
    "                                         align_centered=True,\n",
    "                                         children=[self.custom_nn_card])\n",
    "        \n",
    "        self.custom_nn_dialog.on_event('keydown.stop', lambda *args: None)\n",
    "\n",
    "        \n",
    "        \n",
    "        # Mode Card\n",
    "        self.mode_card = v.Card(flat=True, class_='d-flex flex-column justify-center py-1', height='80px')\n",
    "        self.mode_card.children = self.auto_mode_list\n",
    "        \n",
    "        self.switch_card = v.Card(children=[self.mode_row,\n",
    "                                            v.Divider(class_='my-2'),\n",
    "                                            self.mode_card],                           \n",
    "                                            color='white', class_='px-3 py-1 mb-4 mt-0')\n",
    "\n",
    "               \n",
    "\n",
    "        # Neural Network\n",
    "        self.title = v.Card(class_='pt-5 mb-7 mx-0 d-flex justify-left', style_='font-size:20px; background:none',\n",
    "                            dark=True, center=True, align='center', flat=True,\n",
    "                            children=[title_icon, v.Divider(vertical=True, class_='mx-2'),\n",
    "                                      '{} Settings'.format('Neural Network')])\n",
    "\n",
    "        self.children = [self.title,\n",
    "                         'Manipulated Variables (MV)', self.mv_select,\n",
    "                         'Measured Variables (CV)', self.cv_select,\n",
    "                         v.Divider(class_='mb-4'),\n",
    "                         self.switch_card,\n",
    "                         self.custom_nn_dialog,\n",
    "                         v.Divider(class_='mb-4'),\n",
    "                         'Training Conditions', self.train_condition,\n",
    "                         'Validation Conditions', self.validation_condition,\n",
    "                         v.Divider(class_='mb-6'),\n",
    "                         self.identify_push_card]\n",
    "\n",
    "    def mode_select_action(self, item, *_):\n",
    "        switch_values = ['Manual', 'Auto']\n",
    "        item.v_model != item.v_model\n",
    "        item.label = switch_values[item.v_model]\n",
    "        if item.label == 'Manual':\n",
    "            self.mode_card.children = self.manual_mode_list\n",
    "\n",
    "        elif item.label == 'Auto':\n",
    "            self.mode_card.children = self.auto_mode_list\n",
    "            \n",
    "    def manual_mode_btn_action(self, *_):\n",
    "        self.custom_nn_dialog.v_model = True\n",
    "\n",
    "            "
   ]
  },
  {
   "cell_type": "code",
   "execution_count": 3,
   "id": "01d676d6-1f7b-49de-8fe8-2021817bbd9b",
   "metadata": {
    "tags": []
   },
   "outputs": [
    {
     "data": {
      "application/vnd.jupyter.widget-view+json": {
       "model_id": "419f7ef494964b0aae3d84738ad1b672",
       "version_major": 2,
       "version_minor": 0
      },
      "text/plain": [
       "NN_Panel(children=[Card(children=[Icon(children=['mdi-tools'], class_='', color='white'), Divider(class_='mx-2…"
      ]
     },
     "metadata": {},
     "output_type": "display_data"
    }
   ],
   "source": [
    "nn = NN_Panel()\n",
    "nn"
   ]
  },
  {
   "cell_type": "code",
   "execution_count": 6,
   "id": "e3a24d89-2ece-4b60-b93a-21261612b78a",
   "metadata": {},
   "outputs": [
    {
     "data": {
      "text/plain": [
       "2"
      ]
     },
     "execution_count": 6,
     "metadata": {},
     "output_type": "execute_result"
    }
   ],
   "source": [
    "nn.auto_mode_slider.v_model"
   ]
  },
  {
   "cell_type": "code",
   "execution_count": 1,
   "id": "770e672d-43df-4ecd-9eba-e470ccab8ee2",
   "metadata": {},
   "outputs": [],
   "source": [
    "from seeq_sysid.panels import NN_Panel"
   ]
  },
  {
   "cell_type": "code",
   "execution_count": 3,
   "id": "280a157e-342c-4771-969a-62f788146b6c",
   "metadata": {},
   "outputs": [
    {
     "data": {
      "application/vnd.jupyter.widget-view+json": {
       "model_id": "603e0d419d4e4f1ab13c7e2e57ed83d1",
       "version_major": 2,
       "version_minor": 0
      },
      "text/plain": [
       "NN_Panel(children=[Card(children=[Icon(children=['mdi-tools'], class_='', color='white'), Divider(class_='mx-2…"
      ]
     },
     "metadata": {},
     "output_type": "display_data"
    }
   ],
   "source": [
    "NN_Panel()"
   ]
  },
  {
   "cell_type": "code",
   "execution_count": null,
   "id": "13a308a5-4d36-4ee2-bba0-2966eeed5b89",
   "metadata": {},
   "outputs": [],
   "source": []
  }
 ],
 "metadata": {
  "kernelspec": {
   "display_name": "Python 3",
   "language": "python",
   "name": "python3"
  },
  "language_info": {
   "codemirror_mode": {
    "name": "ipython",
    "version": 3
   },
   "file_extension": ".py",
   "mimetype": "text/x-python",
   "name": "python",
   "nbconvert_exporter": "python",
   "pygments_lexer": "ipython3",
   "version": "3.8.11"
  }
 },
 "nbformat": 4,
 "nbformat_minor": 5
}

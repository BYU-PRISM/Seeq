{
 "cells": [
  {
   "cell_type": "code",
   "execution_count": 26,
   "id": "df6441d5-9f4d-485b-ad3d-a36ed2520295",
   "metadata": {},
   "outputs": [],
   "source": [
    "# Import Packages\n",
    "\n",
    "import ipyvuetify as v\n",
    "import plotly.express as px\n",
    "\n",
    "from seeq_sysid.left_panel import Left_Panel\n",
    "from seeq_sysid.utils import create_eq"
   ]
  },
  {
   "cell_type": "code",
   "execution_count": 51,
   "id": "b852e6cd-09d9-4c54-b160-adb759e80a8c",
   "metadata": {},
   "outputs": [],
   "source": [
    "# State-Space Panel\n",
    "class NN_Panel(Left_Panel):\n",
    "    def __init__(self, *args, **kwargs):\n",
    "        model_name = 'NeuralNetwork'\n",
    "        super().__init__(model_name=model_name,\n",
    "                         *args, **kwargs)\n",
    "\n",
    "        # Icons\n",
    "        title_icon = v.Icon(class_='', children=['mdi-tools'], color='white')\n",
    "\n",
    "        # Drop Downs\n",
    "        switch_values = ['Manual', 'Auto']\n",
    "        self.options_switch = v.Switch(tag='switch',\n",
    "                                       v_model=True,\n",
    "                                       inset=True,\n",
    "                                       label='Manual',\n",
    "                                       dark=False,\n",
    "                                       vertical=True,\n",
    "                                       dense=True,\n",
    "                                       )\n",
    "\n",
    "        self.options_switch.label = switch_values[self.options_switch.v_model]\n",
    "        self.options_switch.on_event('change', self.method_select_action)\n",
    "        self.mode_row = v.Card(children=['Mode', v.Spacer(), self.options_switch], \n",
    "                               color='none',\n",
    "                               flat=True,\n",
    "                               class_='d-flex justify-center flex-row align-center pt-1 mx-1',\n",
    "                               style_='font-size:12pt; font-weight:bold; height:40px',\n",
    "                               dense=True)\n",
    "        \n",
    "        self.auto_slider_title = v.Row(children=[v.Icon(children=['mdi-brain'], class_='px-2 pb-0 mb-0'), 'Computation Cost'], \n",
    "                                       class_='pb-0 pt-1 px-1',\n",
    "                                       style_='font-size:11pt')\n",
    "        self.auto_mode_slider = v.Slider(tick_labels=['Low', 'Medium', 'High'], \n",
    "                                         max=2,\n",
    "                                         v_model=0,\n",
    "                                         style_='font-size:10pt; font-weight:bold',\n",
    "                                         class_='',\n",
    "                                         dense=True,\n",
    "                                         dark=False)\n",
    "        self.auto_mode_list = [self.auto_slider_title, self.auto_mode_slider]\n",
    "        \n",
    "        self.manual_btn_title = v.Row(children=[v.Icon(children=['mdi-graph-outline'], class_='px-2 pb-0 mb-1'), 'Custom Neural Network'], \n",
    "                               class_='pb-0 pt-1 px-1',\n",
    "                               style_='font-size:11pt')\n",
    "        self.manual_mode_btn = v.Btn(children=['Modify Model'], class_='', align='center')\n",
    "        self.manual_mode_list = [self.manual_btn_title, self.manual_mode_btn]\n",
    "        \n",
    "        \n",
    "        self.mode_card = v.Card(flat=True, class_='align-center')\n",
    "        self.mode_card.children = self.auto_mode_list\n",
    "        \n",
    "        self.switch_card = v.Card(children=[self.mode_row,\n",
    "                                            v.Divider(class_='my-2'),\n",
    "                                            self.mode_card],                           \n",
    "                                            color='white', class_='px-3 py-1 mb-4 mt-0')\n",
    "\n",
    "        \n",
    "        # Expanding Panel\n",
    "        # State-Space Model Residual Energy Threshold\n",
    "        self.method_box = None\n",
    "        self.threshold_box = v.TextField(label='epsilon', v_model='1e-6', dense=True, class_='pl-2 pt-1', color='white',\n",
    "                                         dark=True, style_='width:70px; font-size:11pt', hint='ex: 1e-6')\n",
    "        self.threshold = v.Row(\n",
    "            children=[v.Row(children=['Threshold'], class_='mt-0', style_='font-size:11pt; font-weight:bold'),\n",
    "                      self.threshold_box],\n",
    "            class_='',\n",
    "            dense=True,\n",
    "            style_='font-weight:bold; color:white; font-size:13px', align='center')\n",
    "\n",
    "        self.order_box = v.TextField(label='Order', v_model='4', dense=True, class_='pl-2 pt-1', color='white',\n",
    "                                     dark=True, style_='width:70px; font-size:11pt', hint='ex: 4')\n",
    "        self.order = v.Row(children=[\n",
    "            v.Row(children=['States', create_eq('$(n):$', 'white', 2, top='0px')], class_='mt-0',\n",
    "                  style_='font-size:11pt; font-weight:bold'), self.order_box],\n",
    "            class_='',\n",
    "            dense=True,\n",
    "            style_='font-weight:bold; color:white; font-size:13px', align='center')\n",
    "\n",
    "#         self.method_box = self.threshold\n",
    "\n",
    "#         self.orders_panel_obj = v.ExpansionPanel(\n",
    "#             children=[v.ExpansionPanelHeader(children=[self.switch_card],\n",
    "#                                              style_='font-weight:bold; color:white; font-size:12pt',\n",
    "#                                              class_='mt-0 mb-0 pt-0 pb-0 pl-1',\n",
    "#                                              dense=True,\n",
    "#                                              align='center',\n",
    "#                                              dark=True),\n",
    "#                       v.ExpansionPanelContent(\n",
    "#                           children=[v.Col(children=[self.method_box],\n",
    "#                                           style_='font-size:14px; font-weight:bold',\n",
    "#                                           dark=True,\n",
    "#                                           align='center',\n",
    "#                                           dense=True)])],\n",
    "#             style_='background-color:#007960')\n",
    "\n",
    "#         self.orders_panel = v.ExpansionPanels(children=[self.orders_panel_obj], dense=True, style_='width: 300px',\n",
    "#                                               flat=False)\n",
    "#         self.orders_layout = v.Layout(children=[self.orders_panel], class_='mb-6', dense=True, flat=False)\n",
    "\n",
    "        # Sub-Space\n",
    "        self.title = v.Card(class_='pt-5 mb-7 mx-0 d-flex justify-left', style_='font-size:20px; background:none',\n",
    "                            dark=True, center=True, align='center', flat=True,\n",
    "                            children=[title_icon, v.Divider(vertical=True, class_='mx-2'),\n",
    "                                      '{} Settings'.format('Neural Network')])\n",
    "\n",
    "        self.children = [self.title,\n",
    "                         'Manipulated Variables (MV)', self.mv_select,\n",
    "                         'Measured Variables (CV)', self.cv_select,\n",
    "                         v.Divider(class_='mb-4'),\n",
    "                         self.switch_card,\n",
    "                         v.Divider(class_='mb-4'),\n",
    "                         'Training Conditions', self.train_condition,\n",
    "                         'Validation Conditions', self.validation_condition,\n",
    "                         v.Divider(class_='mb-6'),\n",
    "                         self.identify_push_card]\n",
    "\n",
    "    def method_select_action(self, item, *_):\n",
    "        switch_values = ['Manual', 'Auto']\n",
    "        item.v_model != item.v_model\n",
    "        item.label = switch_values[item.v_model]\n",
    "        if item.label == 'Manual':\n",
    "            self.mode_card.children = self.manual_mode_list\n",
    "\n",
    "        elif item.label == 'Auto':\n",
    "            self.mode_card.children = self.auto_mode_list\n",
    "\n",
    "            "
   ]
  },
  {
   "cell_type": "code",
   "execution_count": 52,
   "id": "01d676d6-1f7b-49de-8fe8-2021817bbd9b",
   "metadata": {},
   "outputs": [
    {
     "data": {
      "application/vnd.jupyter.widget-view+json": {
       "model_id": "184e3853e0974d79be914c9da7345f69",
       "version_major": 2,
       "version_minor": 0
      },
      "text/plain": [
       "NN_Panel(children=[Card(children=[Icon(children=['mdi-tools'], class_='', color='white'), Divider(class_='mx-2…"
      ]
     },
     "metadata": {},
     "output_type": "display_data"
    }
   ],
   "source": [
    "nn = NN_Panel()\n",
    "nn"
   ]
  },
  {
   "cell_type": "code",
   "execution_count": 19,
   "id": "f922cb79-9a02-4074-9e59-ba821f39bfb2",
   "metadata": {},
   "outputs": [
    {
     "data": {
      "application/vnd.jupyter.widget-view+json": {
       "model_id": "243445b0febd44d9b7cec79b6fe00cbb",
       "version_major": 2,
       "version_minor": 0
      },
      "text/plain": [
       "Card(flat=True)"
      ]
     },
     "metadata": {},
     "output_type": "display_data"
    }
   ],
   "source": [
    "nn.auto_mode_card"
   ]
  },
  {
   "cell_type": "code",
   "execution_count": 135,
   "id": "6217cfef-b358-4d7b-851c-3e78502479d3",
   "metadata": {},
   "outputs": [
    {
     "data": {
      "application/vnd.jupyter.widget-view+json": {
       "model_id": "6389863624eb4a88b5b55a9238708f72",
       "version_major": 2,
       "version_minor": 0
      },
      "text/plain": [
       "Slider(class_='', dark=False, dense=True, max=2.0, style_='width:15%; font-size:10pt; font-weight:bold', tick_…"
      ]
     },
     "metadata": {},
     "output_type": "display_data"
    }
   ],
   "source": [
    "a = v.Slider(tick_labels=['Performance', 'Balanced', 'Accuracy'], \n",
    "             max=2,\n",
    "             v_model=0,\n",
    "             style_='width:15%; font-size:10pt; font-weight:bold',\n",
    "             class_='',\n",
    "             dense=True,\n",
    "             dark=False)\n",
    "a"
   ]
  },
  {
   "cell_type": "code",
   "execution_count": 5,
   "id": "2d69e448-ff78-4f6d-ab9e-451ad82f2d77",
   "metadata": {},
   "outputs": [
    {
     "data": {
      "text/plain": [
       "0"
      ]
     },
     "execution_count": 5,
     "metadata": {},
     "output_type": "execute_result"
    }
   ],
   "source": [
    "a.v_model"
   ]
  },
  {
   "cell_type": "code",
   "execution_count": 16,
   "id": "fd617244-4214-4e83-a54d-9c816a2f5617",
   "metadata": {},
   "outputs": [
    {
     "data": {
      "application/vnd.jupyter.widget-view+json": {
       "model_id": "0464946ea14243578d2a4bb778d147dd",
       "version_major": 2,
       "version_minor": 0
      },
      "text/plain": [
       "Switch(dark=False)"
      ]
     },
     "metadata": {},
     "output_type": "display_data"
    }
   ],
   "source": [
    "v.Switch(name='iman', dark=False)"
   ]
  },
  {
   "cell_type": "code",
   "execution_count": 138,
   "id": "2e120bec-8f2a-4307-b7b2-57de3a022648",
   "metadata": {},
   "outputs": [
    {
     "data": {
      "application/vnd.jupyter.widget-view+json": {
       "model_id": "f2f43b3beff74700bc71863df5104a8b",
       "version_major": 2,
       "version_minor": 0
      },
      "text/plain": [
       "Switch(dark=False, dense=True, inset=True, label='Auto', v_model=True)"
      ]
     },
     "metadata": {},
     "output_type": "display_data"
    }
   ],
   "source": []
  },
  {
   "cell_type": "code",
   "execution_count": null,
   "id": "41ed3a5a-2545-47e4-85bc-dadb4e53f588",
   "metadata": {},
   "outputs": [],
   "source": []
  }
 ],
 "metadata": {
  "kernelspec": {
   "display_name": "Python 3",
   "language": "python",
   "name": "python3"
  },
  "language_info": {
   "codemirror_mode": {
    "name": "ipython",
    "version": 3
   },
   "file_extension": ".py",
   "mimetype": "text/x-python",
   "name": "python",
   "nbconvert_exporter": "python",
   "pygments_lexer": "ipython3",
   "version": "3.8.11"
  }
 },
 "nbformat": 4,
 "nbformat_minor": 5
}
